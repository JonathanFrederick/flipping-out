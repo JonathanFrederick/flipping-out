{
 "cells": [
  {
   "cell_type": "code",
   "execution_count": 25,
   "metadata": {
    "collapsed": true
   },
   "outputs": [],
   "source": [
    "import math\n",
    "import random\n",
    "import statistics as st\n",
    "import matplotlib.pyplot as plt\n",
    "%matplotlib inline\n"
   ]
  },
  {
   "cell_type": "code",
   "execution_count": 2,
   "metadata": {
    "collapsed": true
   },
   "outputs": [],
   "source": [
    "def coin_flip():\n",
    "    return random.choice([True, False])"
   ]
  },
  {
   "cell_type": "code",
   "execution_count": 19,
   "metadata": {
    "collapsed": false
   },
   "outputs": [],
   "source": [
    "def num_flips(num=2**16):\n",
    "    i = 1\n",
    "    heads = 0\n",
    "    tracker = []\n",
    "    while i <= num:\n",
    "        if coin_flip():\n",
    "            heads += 1\n",
    "        if math.log2(i) % 1 == 0 or i == num:\n",
    "            tracker.append((i, heads))\n",
    "        i += 1\n",
    "    return tracker"
   ]
  },
  {
   "cell_type": "code",
   "execution_count": 42,
   "metadata": {
    "collapsed": false
   },
   "outputs": [
    {
     "name": "stdout",
     "output_type": "stream",
     "text": [
      "[(1, 2, 4, 8, 16, 32, 64, 128, 256, 512, 1024, 2048, 4096, 8192, 16384, 32768, 65536), (0, 0, 1, 2, 5, 17, 38, 67, 138, 275, 542, 1030, 2040, 4112, 8287, 16448, 32745)]\n"
     ]
    },
    {
     "data": {
      "image/png": "[encoded data removed]",
      "text/plain": [
       "<matplotlib.figure.Figure at 0x112dd88d0>"
      ]
     },
     "metadata": {},
     "output_type": "display_data"
    }
   ],
   "source": [
    "trk1 = list(zip(*num_flips()))\n",
    "print(trk1)\n",
    "\n",
    "plt.plot([abs(trk1[1][x] - (trk1[0][x] - trk1[1][x])) for x in range(len(trk1[0]))])\n",
    "plt.xticks(range(len(trk1[0])), ['2^'+str(round(math.log2(x), 2)) for x in trk1[0]])\n",
    "plt.xlabel(\"Number of Coin Flips\")\n",
    "plt.ylabel(\"Difference in number of of heads and tails\")\n",
    "plt.title(\"Difference in \")\n",
    "plt.show()\n"
   ]
  },
  {
   "cell_type": "code",
   "execution_count": 37,
   "metadata": {
    "collapsed": false
   },
   "outputs": [
    {
     "name": "stdout",
     "output_type": "stream",
     "text": [
      "Help on function xticks in module matplotlib.pyplot:\n",
      "\n",
      "xticks(*args, **kwargs)\n",
      "    Get or set the *x*-limits of the current tick locations and labels.\n",
      "    \n",
      "    ::\n",
      "    \n",
      "      # return locs, labels where locs is an array of tick locations and\n",
      "      # labels is an array of tick labels.\n",
      "      locs, labels = xticks()\n",
      "    \n",
      "      # set the locations of the xticks\n",
      "      xticks( arange(6) )\n",
      "    \n",
      "      # set the locations and labels of the xticks\n",
      "      xticks( arange(5), ('Tom', 'Dick', 'Harry', 'Sally', 'Sue') )\n",
      "    \n",
      "    The keyword args, if any, are :class:`~matplotlib.text.Text`\n",
      "    properties. For example, to rotate long labels::\n",
      "    \n",
      "      xticks( arange(12), calendar.month_name[1:13], rotation=17 )\n",
      "\n"
     ]
    }
   ],
   "source": [
    "help(plt.xticks)"
   ]
  },
  {
   "cell_type": "code",
   "execution_count": 12,
   "metadata": {
    "collapsed": false
   },
   "outputs": [
    {
     "data": {
      "text/plain": [
       "3.0"
      ]
     },
     "execution_count": 12,
     "metadata": {},
     "output_type": "execute_result"
    }
   ],
   "source": []
  },
  {
   "cell_type": "code",
   "execution_count": null,
   "metadata": {
    "collapsed": false
   },
   "outputs": [],
   "source": []
  },
  {
   "cell_type": "code",
   "execution_count": null,
   "metadata": {
    "collapsed": true
   },
   "outputs": [],
   "source": []
  }
 ],
 "metadata": {
  "kernelspec": {
   "display_name": "Python 3",
   "language": "python",
   "name": "python3"
  },
  "language_info": {
   "codemirror_mode": {
    "name": "ipython",
    "version": 3
   },
   "file_extension": ".py",
   "mimetype": "text/x-python",
   "name": "python",
   "nbconvert_exporter": "python",
   "pygments_lexer": "ipython3",
   "version": "3.4.3"
  }
 },
 "nbformat": 4,
 "nbformat_minor": 0
}
